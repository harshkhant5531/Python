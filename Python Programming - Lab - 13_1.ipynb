{
 "cells": [
  {
   "cell_type": "markdown",
   "metadata": {},
   "source": [
    "<a href='https://www.darshan.ac.in/'> <img src='https://www.darshan.ac.in/Content/media/DU_Logo.svg' width=\"250\" height=\"300\"/></a>\n",
    "<pre>\n",
    "<center><b><h1>Python Programming - 2301CS404</b></center>\n",
    "    <center><b><h1>Harsh Khant</b></center>\n",
    "        <center><b><h1>166</b></center>\n",
    "            <center><b><h1>23010101140</b></center>\n",
    "\n",
    "\n",
    "<center><b><h1>Lab - 13</b></center>    \n",
    "<pre>"
   ]
  },
  {
   "cell_type": "markdown",
   "metadata": {},
   "source": [
    "# OOP"
   ]
  },
  {
   "cell_type": "markdown",
   "metadata": {},
   "source": [
    "### 01) Write a Program to create a class by name Students, and initialize attributes like name, age, and grade while creating an object."
   ]
  },
  {
   "cell_type": "code",
   "execution_count": 6,
   "metadata": {},
   "outputs": [
    {
     "name": "stdout",
     "output_type": "stream",
     "text": [
      "name: Harsh\n",
      "age: 20\n",
      "garde: A+\n"
     ]
    }
   ],
   "source": [
    "class Students:\n",
    "    def __init__(self,name,age,grade):\n",
    "        self.name=name\n",
    "        self.age=age\n",
    "        self.grade=grade\n",
    "    def displayDetails(self):\n",
    "        print('name:',self.name)\n",
    "        print('age:',self.age)\n",
    "        print('garde:',self.grade)\n",
    "\n",
    "s1=Students('Harsh',20,'A+')\n",
    "s1.displayDetails()"
   ]
  },
  {
   "cell_type": "markdown",
   "metadata": {},
   "source": [
    "### 02) Create a class named Bank_Account with Account_No, User_Name, Email,Account_Type and Account_Balance data members. Also create a method GetAccountDetails() and DisplayAccountDetails(). Create main method to demonstrate the Bank_Account class."
   ]
  },
  {
   "cell_type": "code",
   "execution_count": 15,
   "metadata": {},
   "outputs": [
    {
     "name": "stdout",
     "output_type": "stream",
     "text": [
      "Enter your account number: 07\n",
      "Enter your account User_Name: thala\n",
      "Enter your account Email: thala@gmail.com\n",
      "Enter your account Account_Type: thalaPrivate\n",
      "Enter your account Account_Balance: 07\n"
     ]
    },
    {
     "name": "stdout",
     "output_type": "stream",
     "text": [
      "Account_No 7\n",
      "User_Name thala\n",
      "Email thala@gmail.com\n",
      "Account_Type thalaPrivate\n",
      "Account_Balance 7\n"
     ]
    }
   ],
   "source": [
    "class Bank_Account :\n",
    "    def dispalyAccountDetails(self):\n",
    "        print('Account_No', self.Account_No)\n",
    "        print('User_Name', self.User_Name)\n",
    "        print('Email', self.Email)\n",
    "        print('Account_Type', self.Account_Type)\n",
    "        print('Account_Balance', self.Account_Balance)\n",
    "    def getAccountDeatils(self):\n",
    "        self.Account_No=int(input('Enter your account number:'))\n",
    "        self.User_Name=input('Enter your account User_Name:')\n",
    "        self.Email=input('Enter your account Email:')\n",
    "        self.Account_Type=input('Enter your account Account_Type:')\n",
    "        self.Account_Balance=int(input('Enter your account Account_Balance:'))\n",
    "\n",
    "h1=Bank_Account()\n",
    "h1.getAccountDeatils()\n",
    "h1.dispalyAccountDetails()\n",
    "        "
   ]
  },
  {
   "cell_type": "markdown",
   "metadata": {},
   "source": [
    "### 03) WAP to create Circle class with area and perimeter function to find area and perimeter of circle."
   ]
  },
  {
   "cell_type": "code",
   "execution_count": 23,
   "metadata": {},
   "outputs": [
    {
     "name": "stdout",
     "output_type": "stream",
     "text": [
      "9.869604401089358\n",
      "31.41592653589793\n"
     ]
    }
   ],
   "source": [
    "import math\n",
    "class circle:\n",
    "    def __init__(self,r):\n",
    "        self.r=r\n",
    "    def areaOfCircle(self):\n",
    "        print(math.pi**2)\n",
    "    def permeterOfCircle(self):\n",
    "        print(2*math.pi*self.r)\n",
    "obj=circle(5)\n",
    "obj.areaOfCircle()\n",
    "obj.permeterOfCircle()\n",
    "\n"
   ]
  },
  {
   "cell_type": "markdown",
   "metadata": {},
   "source": [
    "### 04) Create a class for employees that includes attributes such as name, age, salary, and methods to update and display employee information."
   ]
  },
  {
   "cell_type": "code",
   "execution_count": 1,
   "metadata": {},
   "outputs": [
    {
     "name": "stdout",
     "output_type": "stream",
     "text": [
      "Name: Harsh\n",
      "Age: 30\n",
      "Salary: $50000\n",
      "Employee information updated successfully.\n",
      "Name: Harsh\n",
      "Age: 31\n",
      "Salary: $55000\n"
     ]
    }
   ],
   "source": [
    "class Employee:\n",
    "    def __init__(self, name, age, salary):\n",
    "        self.name = name\n",
    "        self.age = age\n",
    "        self.salary = salary\n",
    "\n",
    "    def display_info(self):\n",
    "        print(f\"Name: {self.name}\")\n",
    "        print(f\"Age: {self.age}\")\n",
    "        print(f\"Salary: ${self.salary}\")\n",
    "\n",
    "    def update_info(self, name=None, age=None, salary=None):\n",
    "        if name:\n",
    "            self.name = name\n",
    "        if age:\n",
    "            self.age = age\n",
    "        if salary:\n",
    "            self.salary = salary\n",
    "        print(\"Employee information updated successfully.\")\n",
    "\n",
    "\n",
    "emp1 = Employee(\"Harsh\", 30, 50000)\n",
    "emp1.display_info()\n",
    "\n",
    "emp1.update_info(age=31, salary=55000)\n",
    "emp1.display_info()"
   ]
  },
  {
   "cell_type": "markdown",
   "metadata": {},
   "source": [
    "### 05) Create a bank account class with methods to deposit, withdraw, and check balance."
   ]
  },
  {
   "cell_type": "code",
   "execution_count": 28,
   "metadata": {},
   "outputs": [
    {
     "name": "stdout",
     "output_type": "stream",
     "text": [
      "Balance is: 9700\n"
     ]
    }
   ],
   "source": [
    "class bank_account:\n",
    "    Balance=5000\n",
    "    def depo(self,d):\n",
    "        self.Balance =self.Balance+d\n",
    "    def withd(self,w):\n",
    "        self.Balance= self.Balance-w\n",
    "    def displayAvailableBalance(self):\n",
    "        print('Balance is:',self.Balance)\n",
    "obj1=bank_account()\n",
    "obj1.depo(5000)\n",
    "obj1.withd(300)\n",
    "obj1.displayAvailableBalance()\n",
    "    "
   ]
  },
  {
   "cell_type": "markdown",
   "metadata": {},
   "source": [
    "### 06) Create a class for managing inventory that includes attributes such as item name, price, quantity, and methods to add, remove, and update items."
   ]
  },
  {
   "cell_type": "code",
   "execution_count": 4,
   "metadata": {},
   "outputs": [
    {
     "name": "stdout",
     "output_type": "stream",
     "text": [
      "Laptop added successfully.\n",
      "Laptop updated successfully.\n",
      "Laptop removed successfully.\n"
     ]
    }
   ],
   "source": [
    "class Inventory:\n",
    "    def __init__(self):\n",
    "        self.items = {}\n",
    "\n",
    "    def add_item(self, name, price, quantity):\n",
    "        self.items[name] = {\"price\": price, \"quantity\": quantity}\n",
    "        print(f\"{name} added successfully.\")\n",
    "\n",
    "    def remove_item(self, name):\n",
    "        if name in self.items:\n",
    "            del self.items[name]\n",
    "            print(f\"{name} removed successfully.\")\n",
    "        else:\n",
    "            print(f\"{name} not found in inventory.\")\n",
    "\n",
    "    def update_item(self, name, price=None, quantity=None):\n",
    "        if name in self.items:\n",
    "            if price is not None:\n",
    "                self.items[name][\"price\"] = price\n",
    "            if quantity is not None:\n",
    "                self.items[name][\"quantity\"] = quantity\n",
    "            print(f\"{name} updated successfully.\")\n",
    "        else:\n",
    "            print(f\"{name} not found in inventory.\")\n",
    "\n",
    "inventory = Inventory()\n",
    "inventory.add_item(\"Laptop\", 75000, 10)\n",
    "inventory.update_item(\"Laptop\", quantity=8)\n",
    "inventory.remove_item(\"Laptop\")"
   ]
  },
  {
   "cell_type": "markdown",
   "metadata": {},
   "source": [
    "### 07) Create a Class with instance attributes of your choice."
   ]
  },
  {
   "cell_type": "code",
   "execution_count": 5,
   "metadata": {},
   "outputs": [
    {
     "name": "stdout",
     "output_type": "stream",
     "text": [
      "2020 Toyota Corolla\n"
     ]
    }
   ],
   "source": [
    "class Vehicle:\n",
    "    def __init__(self, brand, model, year):\n",
    "        self.brand = brand\n",
    "        self.model = model\n",
    "        self.year = year\n",
    "\n",
    "    def display_info(self):\n",
    "        print(f\"{self.year} {self.brand} {self.model}\")\n",
    "\n",
    "car = Vehicle(\"Toyota\", \"Corolla\", 2020)\n",
    "car.display_info()\n"
   ]
  },
  {
   "cell_type": "markdown",
   "metadata": {},
   "source": [
    "### 08) Create one class student_kit\n",
    "#### Within the student_kit class create one class attribute principal name ( Mr ABC )\n",
    "#### Create one attendance method and take input as number of days.\n",
    "#### While creating student take input their name .\n",
    "#### Create one certificate for each student by taking input of number of days present in class."
   ]
  },
  {
   "cell_type": "markdown",
   "metadata": {},
   "source": []
  },
  {
   "cell_type": "code",
   "execution_count": 6,
   "metadata": {},
   "outputs": [
    {
     "name": "stdout",
     "output_type": "stream",
     "text": [
      "Harsh attended 90 days.\n",
      "Certificate of Attendance\n",
      "Student: Harsh\n",
      "Principal: Mr ABC\n",
      "Days Present: 90\n"
     ]
    }
   ],
   "source": [
    "class StudentKit:\n",
    "    principal_name = \"Mr ABC\"\n",
    "\n",
    "    def __init__(self, student_name):\n",
    "        self.student_name = student_name\n",
    "\n",
    "    def attendance(self, days_present):\n",
    "        print(f\"{self.student_name} attended {days_present} days.\")\n",
    "\n",
    "    def generate_certificate(self, days_present):\n",
    "        print(f\"Certificate of Attendance\\nStudent: {self.student_name}\\nPrincipal: {StudentKit.principal_name}\\nDays Present: {days_present}\")\n",
    "\n",
    "student = StudentKit(\"Harsh\")\n",
    "student.attendance(90)\n",
    "student.generate_certificate(90)"
   ]
  },
  {
   "cell_type": "markdown",
   "metadata": {},
   "source": [
    "### 09) Define Time class with hour and minute as data member. Also define addition method to add two time objects."
   ]
  },
  {
   "cell_type": "markdown",
   "metadata": {},
   "source": []
  },
  {
   "cell_type": "code",
   "execution_count": 7,
   "metadata": {},
   "outputs": [
    {
     "name": "stdout",
     "output_type": "stream",
     "text": [
      "4 hour(s) and 15 minute(s)\n"
     ]
    }
   ],
   "source": [
    "class Time:\n",
    "    def __init__(self, hour, minute):\n",
    "        self.hour = hour\n",
    "        self.minute = minute\n",
    "\n",
    "    def add_time(self, other):\n",
    "        total_minutes = self.minute + other.minute\n",
    "        total_hours = self.hour + other.hour + (total_minutes // 60)\n",
    "        total_minutes = total_minutes % 60\n",
    "        return Time(total_hours, total_minutes)\n",
    "\n",
    "    def display_time(self):\n",
    "        print(f\"{self.hour} hour(s) and {self.minute} minute(s)\")\n",
    "\n",
    "time1 = Time(2, 45)\n",
    "time2 = Time(1, 30)\n",
    "result = time1.add_time(time2)\n",
    "result.display_time()\n"
   ]
  },
  {
   "cell_type": "code",
   "execution_count": null,
   "metadata": {},
   "outputs": [],
   "source": []
  }
 ],
 "metadata": {
  "kernelspec": {
   "display_name": "base",
   "language": "python",
   "name": "python3"
  },
  "language_info": {
   "codemirror_mode": {
    "name": "ipython",
    "version": 3
   },
   "file_extension": ".py",
   "mimetype": "text/x-python",
   "name": "python",
   "nbconvert_exporter": "python",
   "pygments_lexer": "ipython3",
   "version": "3.12.7"
  }
 },
 "nbformat": 4,
 "nbformat_minor": 4
}
