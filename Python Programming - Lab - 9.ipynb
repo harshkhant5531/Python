{
 "cells": [
  {
   "cell_type": "markdown",
   "metadata": {},
   "source": [
    "<a href='https://www.darshan.ac.in/'> <img src='https://www.darshan.ac.in/Content/media/DU_Logo.svg' width=\"250\" height=\"300\"/></a>\n",
    "<pre>\n",
    "<center><b><h1>Python Programming - 2301CS404</b></center>\n",
    "<center><b><h1>Lab - 9</b></center>    \n",
    "<pre>"
   ]
  },
  {
   "cell_type": "markdown",
   "metadata": {},
   "source": [
    "# File I/O"
   ]
  },
  {
   "cell_type": "markdown",
   "metadata": {},
   "source": [
    "### 01) WAP to read and display the contents of a text file. (also try to open the file in some other directory) \n",
    "#### - in the form of a string\n",
    "#### - line by line\n",
    "#### - in the form of a list"
   ]
  },
  {
   "cell_type": "code",
   "execution_count": 26,
   "metadata": {},
   "outputs": [
    {
     "name": "stdout",
     "output_type": "stream",
     "text": [
      "Hello\n",
      " llkjhgfghjk\n"
     ]
    }
   ],
   "source": [
    "fp=open('test1.txt','w+')\n",
    "fp.write('Hello\\n llkjhgfghjk')\n",
    "fp.seek(0)\n",
    "rd=fp.read()\n",
    "print(rd)\n",
    "fp.close()"
   ]
  },
  {
   "cell_type": "markdown",
   "metadata": {},
   "source": [
    "### 02) WAP to create file named \"new.txt\" only if it doesn't exist."
   ]
  },
  {
   "cell_type": "code",
   "execution_count": 20,
   "metadata": {},
   "outputs": [],
   "source": [
    "fp=open('new.txt','w')\n",
    "fp.write('hello')\n",
    "fp.close()"
   ]
  },
  {
   "cell_type": "markdown",
   "metadata": {},
   "source": [
    "### 03) WAP to read first 5 lines from the text file."
   ]
  },
  {
   "cell_type": "code",
   "execution_count": 32,
   "metadata": {},
   "outputs": [
    {
     "name": "stdout",
     "output_type": "stream",
     "text": [
      "afhaygfajgf\n",
      "\n",
      "adnbhfbkjas\n",
      "\n",
      "jfjlkafn\n",
      "\n",
      "anfknal\n",
      "\n",
      "ansfdljkakf\n",
      "\n"
     ]
    }
   ],
   "source": [
    "fp=open('readLines.txt','r')\n",
    "for i in range(5):\n",
    "    print(fp.readline())\n",
    "fp.close()"
   ]
  },
  {
   "cell_type": "markdown",
   "metadata": {},
   "source": [
    "### 04) WAP to find the longest word(s) in a file"
   ]
  },
  {
   "cell_type": "code",
   "execution_count": 51,
   "metadata": {},
   "outputs": [
    {
     "name": "stdout",
     "output_type": "stream",
     "text": [
      "afhaygfajgf\n",
      "adnbhfbkjas\n",
      "ansfdljkakf\n"
     ]
    }
   ],
   "source": [
    "fp=open('readLines.txt','r')\n",
    "a=fp.read().split()\n",
    "b=max([len(i) for i in a])\n",
    "lw=[i for i in a if len(i) == b]\n",
    "for i in lw:\n",
    "    print(i)\n",
    "fp.close()\n"
   ]
  },
  {
   "cell_type": "markdown",
   "metadata": {},
   "source": [
    "### 05) WAP to count the no. of lines, words and characters in a given text file."
   ]
  },
  {
   "cell_type": "code",
   "execution_count": 49,
   "metadata": {},
   "outputs": [
    {
     "name": "stdout",
     "output_type": "stream",
     "text": [
      "lines: 2\n",
      "words: 2\n",
      "character: 16\n"
     ]
    }
   ],
   "source": [
    "fp=open('test1.txt')\n",
    "st=fp.read()\n",
    "li=st.split('\\n')\n",
    "lines=len(li)\n",
    "li1=st.split()\n",
    "words=len(li1)\n",
    "ch=0\n",
    "for i in li1:\n",
    "    ch+=len(i)\n",
    "    ch-=i.count('\\n')\n",
    "print('lines:',lines)\n",
    "print('words:',words)\n",
    "print('character:',ch)\n",
    "\n"
   ]
  },
  {
   "cell_type": "markdown",
   "metadata": {},
   "source": [
    "### 06) WAP to copy the content of a file to the another file."
   ]
  },
  {
   "cell_type": "code",
   "execution_count": 52,
   "metadata": {},
   "outputs": [],
   "source": [
    "fp=open('test1.txt')\n",
    "st=fp.read()\n",
    "li=st.split('\\n')\n",
    "fp.close()\n",
    "fp1=open('test2.txt','w')\n",
    "for i in li:\n",
    "    fp1.write(str(i)+'\\n')\n",
    "fp1.close()"
   ]
  },
  {
   "cell_type": "markdown",
   "metadata": {},
   "source": [
    "### 07) WAP to find the size of the text file. "
   ]
  },
  {
   "cell_type": "code",
   "execution_count": 2,
   "metadata": {},
   "outputs": [
    {
     "name": "stdout",
     "output_type": "stream",
     "text": [
      "19\n"
     ]
    }
   ],
   "source": [
    "fp=open('test1.txt')\n",
    "print(fp.seek(0,2))\n",
    "fp.close()"
   ]
  },
  {
   "cell_type": "markdown",
   "metadata": {},
   "source": [
    "### 08) WAP to create an UDF named frequency to count occurances of the specific word in a given text file."
   ]
  },
  {
   "cell_type": "code",
   "execution_count": 6,
   "metadata": {},
   "outputs": [
    {
     "name": "stdin",
     "output_type": "stream",
     "text": [
      "Enter the word to count:  Hello\n"
     ]
    },
    {
     "name": "stdout",
     "output_type": "stream",
     "text": [
      "Count is: 1\n"
     ]
    }
   ],
   "source": [
    "def frequency():\n",
    "    sword = input(\"Enter the word to count: \")\n",
    "    fp=open('test1.txt','r')\n",
    "    d=fp.read()\n",
    "    w=d.lower().split()\n",
    "    sword=sword.lower()\n",
    "    c=w.count(sword)\n",
    "    print('Count is:',c)\n",
    "    fp.close()\n",
    "    \n",
    "frequency()\n"
   ]
  },
  {
   "cell_type": "markdown",
   "metadata": {},
   "source": [
    "### 09) WAP to get the score of five subjects from the user, store them in a file. Fetch those marks and find the highest score."
   ]
  },
  {
   "cell_type": "code",
   "execution_count": null,
   "metadata": {},
   "outputs": [],
   "source": []
  },
  {
   "cell_type": "code",
   "execution_count": 7,
   "metadata": {},
   "outputs": [
    {
     "name": "stdin",
     "output_type": "stream",
     "text": [
      "Enter score for subject 1:  10\n",
      "Enter score for subject 2:  20\n",
      "Enter score for subject 3:  30\n",
      "Enter score for subject 4:  040\n",
      "Enter score for subject 5:  5\n"
     ]
    },
    {
     "name": "stdout",
     "output_type": "stream",
     "text": [
      "['10', '20', '30', '040', '5']\n",
      "[10, 20, 30, 40, 5]\n",
      "40\n"
     ]
    }
   ],
   "source": [
    "fp=open('test3.txt','w')\n",
    "ent=[input(f\"Enter score for subject {i+1}: \") for i in range(5)]\n",
    "fp.write('\\n'.join(ent))\n",
    "print(ent)\n",
    "fp.close()\n",
    "\n",
    "fp=open('test3.txt','r') \n",
    "sc=[int(i) for i in fp]\n",
    "fp.close()\n",
    "\n",
    "print(sc)\n",
    "print(max(sc))"
   ]
  },
  {
   "cell_type": "markdown",
   "metadata": {},
   "source": [
    "### 10) WAP to write first 100 prime numbers to a file named primenumbers.txt \n",
    "(Note: each number should be in new line)"
   ]
  },
  {
   "cell_type": "code",
   "execution_count": null,
   "metadata": {},
   "outputs": [],
   "source": []
  },
  {
   "cell_type": "markdown",
   "metadata": {},
   "source": [
    "### 11) WAP to merge two files and write it in a new file."
   ]
  },
  {
   "cell_type": "code",
   "execution_count": null,
   "metadata": {},
   "outputs": [],
   "source": []
  },
  {
   "cell_type": "markdown",
   "metadata": {},
   "source": [
    "### 12) WAP to replace word1 by word2 of a text file. Write the updated data to new file."
   ]
  },
  {
   "cell_type": "code",
   "execution_count": null,
   "metadata": {},
   "outputs": [],
   "source": []
  },
  {
   "cell_type": "markdown",
   "metadata": {},
   "source": [
    "### 13) Demonstrate tell() and seek() for all the cases(seek from beginning-end-current position) taking a suitable example of your choice."
   ]
  },
  {
   "cell_type": "code",
   "execution_count": null,
   "metadata": {},
   "outputs": [],
   "source": []
  }
 ],
 "metadata": {
  "kernelspec": {
   "display_name": "Python 3 (ipykernel)",
   "language": "python",
   "name": "python3"
  },
  "language_info": {
   "codemirror_mode": {
    "name": "ipython",
    "version": 3
   },
   "file_extension": ".py",
   "mimetype": "text/x-python",
   "name": "python",
   "nbconvert_exporter": "python",
   "pygments_lexer": "ipython3",
   "version": "3.12.7"
  }
 },
 "nbformat": 4,
 "nbformat_minor": 4
}
