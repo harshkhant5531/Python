{
 "cells": [
  {
   "cell_type": "markdown",
   "metadata": {},
   "source": [
    "<a href='https://www.darshan.ac.in/'> <img src='https://www.darshan.ac.in/Content/media/DU_Logo.svg' width=\"250\" height=\"300\"/></a>\n",
    "<pre>\n",
    "<center><b><h1>Python Programming - 2301CS404</b></center>\n",
    "<center><b><h1>Lab - 10</b></center>    \n",
    "<center><b><h1>Harsh Khant</b></center>    \n",
    "<center><b><h1>166</b></center>  \n",
    "<center><b><h1>23010101140</b></center>   \n",
    "\n",
    "<pre>"
   ]
  },
  {
   "cell_type": "markdown",
   "metadata": {},
   "source": [
    "# Exception Handling"
   ]
  },
  {
   "cell_type": "markdown",
   "metadata": {},
   "source": [
    "### 01) WAP to handle following exceptions:\n",
    "1. ZeroDivisionError\n",
    "2. ValueError\n",
    "3. TypeError\n",
    "#### Note: handle them using separate except blocks and also using single except block too."
   ]
  },
  {
   "cell_type": "code",
   "execution_count": 10,
   "metadata": {},
   "outputs": [
    {
     "name": "stdout",
     "output_type": "stream",
     "text": [
      "You cannot concat string+integer\n"
     ]
    }
   ],
   "source": [
    "\n",
    "# 1-----ZeroDivisonError\n",
    "try:\n",
    "    a=1\n",
    "    b=0\n",
    "    c=a/b\n",
    "    print(c)\n",
    "except ZeroDivisionError:\n",
    "    print('value of b is not zero')\n",
    "\n",
    "\n",
    "# 2-----ValueError\n",
    "try:\n",
    "    a='abc'\n",
    "    b=int(a)\n",
    "    print(b)\n",
    "\n",
    "except ValueError:\n",
    "    print('You cannot convert string into integer')\n",
    "\n",
    "# 3-----TypeError\n",
    "try:\n",
    "    a='abc'\n",
    "    b=5\n",
    "    c=a+b\n",
    "    print(c)\n",
    "\n",
    "except TypeError:\n",
    "    print('You cannot concat string+integer')\n"
   ]
  },
  {
   "cell_type": "markdown",
   "metadata": {},
   "source": [
    "### 02)  WAP to handle following exceptions:\n",
    "1. IndexError\n",
    "2. KeyError"
   ]
  },
  {
   "cell_type": "code",
   "execution_count": 17,
   "metadata": {},
   "outputs": [
    {
     "name": "stdout",
     "output_type": "stream",
     "text": [
      "In dictionary key not found\n"
     ]
    }
   ],
   "source": [
    "# 1-----IndexError\n",
    "li=[1,2,3,4]\n",
    "try:\n",
    "    li[5]\n",
    "except IndexError:\n",
    "    print('In List index is out of bound ')\n",
    "\n",
    "\n",
    "# 2-----KeyError\n",
    "try:\n",
    "    k={1:'a',2:'b',3:'c'}\n",
    "    k[4]\n",
    "except KeyError :\n",
    "    print('In dictionary key not found')\n",
    "    \n",
    "\n"
   ]
  },
  {
   "cell_type": "markdown",
   "metadata": {},
   "source": [
    "### 03) WAP to handle following exceptions:\n",
    "1. FileNotFoundError\n",
    "2. ModuleNotFoundError"
   ]
  },
  {
   "cell_type": "code",
   "execution_count": 19,
   "metadata": {},
   "outputs": [
    {
     "name": "stdout",
     "output_type": "stream",
     "text": [
      "You can import available module\n"
     ]
    }
   ],
   "source": [
    "# 1-----FileNotFoundError\n",
    "try:\n",
    "    fp=open('abc.txt','r')\n",
    "except FileNotFoundError:\n",
    "    print('File not found')\n",
    "\n",
    "# 2-----ModuleNotFoundError\n",
    "try:\n",
    "    import ha\n",
    "except ModuleNotFoundError:\n",
    "    print('You can import available module')\n",
    "    \n",
    "    "
   ]
  },
  {
   "cell_type": "markdown",
   "metadata": {},
   "source": [
    "### 04) WAP that catches all type of exceptions in a single except block."
   ]
  },
  {
   "cell_type": "code",
   "execution_count": 20,
   "metadata": {},
   "outputs": [
    {
     "name": "stdout",
     "output_type": "stream",
     "text": [
      "can only concatenate str (not \"int\") to str\n"
     ]
    }
   ],
   "source": [
    "try:\n",
    "    'a'+10\n",
    "except BaseException as err:\n",
    "    print(err)\n",
    "    "
   ]
  },
  {
   "cell_type": "markdown",
   "metadata": {},
   "source": [
    "### 05) WAP to demonstrate else  and finally block."
   ]
  },
  {
   "cell_type": "code",
   "execution_count": 22,
   "metadata": {},
   "outputs": [
    {
     "name": "stdout",
     "output_type": "stream",
     "text": [
      "division by zero\n",
      "You can successfully run the code\n"
     ]
    }
   ],
   "source": [
    "try:\n",
    "    a=10/0\n",
    "except BaseException as err:\n",
    "    print(err)\n",
    "else:\n",
    "    print(a)\n",
    "finally:\n",
    "    print('You can successfully run the code')"
   ]
  },
  {
   "cell_type": "markdown",
   "metadata": {},
   "source": [
    "### 06) Create a short program that prompts the user for a list of grades separated by commas. \n",
    "### Split the string into individual grades and use a list comprehension to convert each string to an integer. \n",
    "### You should use a try statement to inform the user when the values they entered cannot be converted."
   ]
  },
  {
   "cell_type": "code",
   "execution_count": 20,
   "metadata": {},
   "outputs": [
    {
     "name": "stdout",
     "output_type": "stream",
     "text": [
      "Enter a list of grades separated by commas:  A\n"
     ]
    },
    {
     "name": "stdout",
     "output_type": "stream",
     "text": [
      "String can't be converted into integer\n"
     ]
    }
   ],
   "source": [
    "g= input(\"Enter a list of grades separated by commas: \")\n",
    "try:\n",
    "    grades = [int(grade) for grade in g.split(',')]\n",
    "    print(\"grades:\", grades)\n",
    "except ValueError:\n",
    "    print(\"String can't be converted into integer\")\n"
   ]
  },
  {
   "cell_type": "markdown",
   "metadata": {},
   "source": [
    "### 07) WAP to create an udf divide(a,b) that handles ZeroDivisionError."
   ]
  },
  {
   "cell_type": "code",
   "execution_count": 30,
   "metadata": {},
   "outputs": [
    {
     "name": "stdout",
     "output_type": "stream",
     "text": [
      "You cannot divide by zero\n"
     ]
    }
   ],
   "source": [
    "def divide(a,b):\n",
    "    try:\n",
    "        c=a/b\n",
    "    except :\n",
    "        print('You cannot divide by zero')\n",
    "        \n",
    "divide(1,0)\n",
    "    "
   ]
  },
  {
   "cell_type": "markdown",
   "metadata": {},
   "source": [
    "### 08) WAP that gets an age of a person form the user and raises ValueError with error message: \"Enter Valid Age\" :\n",
    "#### If the age is less than 18. \n",
    "#### otherwise print the age."
   ]
  },
  {
   "cell_type": "code",
   "execution_count": 49,
   "metadata": {},
   "outputs": [
    {
     "ename": "Exception",
     "evalue": "Enter Valid Age",
     "output_type": "error",
     "traceback": [
      "\u001b[1;31m---------------------------------------------------------------------------\u001b[0m",
      "\u001b[1;31mException\u001b[0m                                 Traceback (most recent call last)",
      "Cell \u001b[1;32mIn[49], line 5\u001b[0m\n\u001b[0;32m      3\u001b[0m a\u001b[38;5;241m=\u001b[39m\u001b[38;5;28mint\u001b[39m(age)\n\u001b[0;32m      4\u001b[0m \u001b[38;5;28;01mif\u001b[39;00m a\u001b[38;5;241m<\u001b[39m\u001b[38;5;241m18\u001b[39m:\n\u001b[1;32m----> 5\u001b[0m     \u001b[38;5;28;01mraise\u001b[39;00m \u001b[38;5;167;01mException\u001b[39;00m(\u001b[38;5;124m'\u001b[39m\u001b[38;5;124mEnter Valid Age\u001b[39m\u001b[38;5;124m'\u001b[39m)\n\u001b[0;32m      6\u001b[0m \u001b[38;5;28;01melse\u001b[39;00m:\n\u001b[0;32m      7\u001b[0m     \u001b[38;5;28mprint\u001b[39m(\u001b[38;5;124m'\u001b[39m\u001b[38;5;124mage:\u001b[39m\u001b[38;5;124m'\u001b[39m,age)\n",
      "\u001b[1;31mException\u001b[0m: Enter Valid Age"
     ]
    }
   ],
   "source": [
    "try:\n",
    "    age=14\n",
    "    a=int(age)\n",
    "    if a<18:\n",
    "        raise Exception('Enter Valid Age')\n",
    "    else:\n",
    "        print('age:',age)\n",
    "except ValueError as err: \n",
    "    print(err)"
   ]
  },
  {
   "cell_type": "markdown",
   "metadata": {},
   "source": [
    "### 09) WAP to raise your custom Exception named InvalidUsernameError with the error message : \"Username must be between 5 and 15 characters long\":\n",
    "#### if the given name is having characters less than 5 or greater than 15.\n",
    "#### otherwise print the given username."
   ]
  },
  {
   "cell_type": "code",
   "execution_count": 9,
   "metadata": {},
   "outputs": [
    {
     "name": "stdout",
     "output_type": "stream",
     "text": [
      "Username must be between 5 and 15 characters long\n"
     ]
    }
   ],
   "source": [
    "try:\n",
    "    name='har'\n",
    "    if len(name)<5 or len(name)>15:\n",
    "        raise Exception('InvalidUsernameError')\n",
    "    else:\n",
    "        print(name)\n",
    "except Exception :\n",
    "    print('Username must be between 5 and 15 characters long')\n",
    "    "
   ]
  },
  {
   "cell_type": "markdown",
   "metadata": {},
   "source": [
    "### 10) WAP to raise your custom Exception named NegativeNumberError with the error message : \"Cannot calculate the square root of a negative number\" :\n",
    "#### if the given number is negative.\n",
    "#### otherwise print the square root of the given number."
   ]
  },
  {
   "cell_type": "code",
   "execution_count": 52,
   "metadata": {},
   "outputs": [
    {
     "name": "stdout",
     "output_type": "stream",
     "text": [
      "Cannot calculate the square root of negative number\n"
     ]
    }
   ],
   "source": [
    "try:\n",
    "    import math\n",
    "    num=-14\n",
    "    if num<0:\n",
    "        raise Exception('Cannot calculate the square root of negative number')\n",
    "    else:\n",
    "        b=math.sqrt(num)\n",
    "        print(b)\n",
    "except Exception as err: \n",
    "    print(err)"
   ]
  },
  {
   "cell_type": "code",
   "execution_count": null,
   "metadata": {},
   "outputs": [],
   "source": []
  }
 ],
 "metadata": {
  "kernelspec": {
   "display_name": "Python 3 (ipykernel)",
   "language": "python",
   "name": "python3"
  },
  "language_info": {
   "codemirror_mode": {
    "name": "ipython",
    "version": 3
   },
   "file_extension": ".py",
   "mimetype": "text/x-python",
   "name": "python",
   "nbconvert_exporter": "python",
   "pygments_lexer": "ipython3",
   "version": "3.12.7"
  }
 },
 "nbformat": 4,
 "nbformat_minor": 4
}
