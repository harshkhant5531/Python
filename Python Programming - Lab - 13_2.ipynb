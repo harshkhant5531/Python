{
 "cells": [
  {
   "cell_type": "markdown",
   "metadata": {},
   "source": [
    "<a href='https://www.darshan.ac.in/'> <img src='https://www.darshan.ac.in/Content/media/DU_Logo.svg' width=\"250\" height=\"300\"/></a>\n",
    "<pre>\n",
    "<center><b><h1>Python Programming - 2301CS404</b></center>\n",
    "<center><b><h1>Lab - 13</b></center>\n",
    "    <center><b><h1>Harsh Khant</b></center>\n",
    "        <center><b><h1>23010101140</b></center>\n",
    "            <center><b><h1>166</b></center>\n",
    "<pre>"
   ]
  },
  {
   "cell_type": "markdown",
   "metadata": {},
   "source": [
    "## Continued.."
   ]
  },
  {
   "cell_type": "markdown",
   "metadata": {},
   "source": [
    "### 10) Calculate area of a ractangle using object as an argument to a method."
   ]
  },
  {
   "cell_type": "code",
   "execution_count": 7,
   "metadata": {},
   "outputs": [
    {
     "data": {
      "text/plain": [
       "30"
      ]
     },
     "execution_count": 7,
     "metadata": {},
     "output_type": "execute_result"
    }
   ],
   "source": [
    "class areaOfRectangle:\n",
    "    def __init__(self,l,b):\n",
    "        self.l=l\n",
    "        self.b=b\n",
    "    def calculateArea(self):\n",
    "        return self.l*self.b\n",
    "obj=areaOfRectangle(5,6)\n",
    "obj.calculateArea()\n",
    "\n",
    "     "
   ]
  },
  {
   "cell_type": "markdown",
   "metadata": {},
   "source": [
    "### 11) Calculate the area of a square. \n",
    "### Include a Constructor, a method to calculate area named area() and a method named output() that prints the output and is invoked by area()."
   ]
  },
  {
   "cell_type": "code",
   "execution_count": 13,
   "metadata": {},
   "outputs": [
    {
     "name": "stdout",
     "output_type": "stream",
     "text": [
      "Answer: 25\n"
     ]
    }
   ],
   "source": [
    "class areaOfSquare:\n",
    "    def __init__(self,l):\n",
    "        self.l=l\n",
    "    def calculateArea(self):\n",
    "        ans=self.l**2\n",
    "        self.output(ans)\n",
    "    def output(self,ans):\n",
    "        print('Answer:',ans)\n",
    "obj=areaOfSquare(5)\n",
    "obj.calculateArea()"
   ]
  },
  {
   "cell_type": "markdown",
   "metadata": {},
   "source": [
    "### 12) Calculate the area of a rectangle. \n",
    "### Include a Constructor, a method to calculate area named area() and a method named output() that prints the output and is invoked by area().\n",
    "### Also define a class method that compares the two sides of reactangle. An object is instantiated only if the two sides are different; otherwise a message should be displayed : THIS IS SQUARE."
   ]
  },
  {
   "cell_type": "code",
   "execution_count": 17,
   "metadata": {},
   "outputs": [
    {
     "name": "stdout",
     "output_type": "stream",
     "text": [
      "This is Square\n"
     ]
    }
   ],
   "source": [
    "class areaOfRectangle:\n",
    "    def __init__(self,l,b):\n",
    "        self.l=l\n",
    "        self.b=b\n",
    "    def calculateArea(self):\n",
    "        if(self.l!=self.b):\n",
    "            ans=self.l*self.b\n",
    "            self.output(ans)\n",
    "        else:\n",
    "            print('This is Square')\n",
    "    def output(self,ans):\n",
    "        print('Answer:',ans)\n",
    "obj=areaOfRectangle(5,5)\n",
    "obj.calculateArea()"
   ]
  },
  {
   "cell_type": "markdown",
   "metadata": {},
   "source": [
    "### 13) Define a class Square having a private attribute \"side\". \n",
    "### Implement get_side and set_side methods to accees the private attribute from outside of the class."
   ]
  },
  {
   "cell_type": "code",
   "execution_count": 3,
   "metadata": {},
   "outputs": [
    {
     "name": "stdout",
     "output_type": "stream",
     "text": [
      "Harsh\n"
     ]
    }
   ],
   "source": [
    "class Square:\n",
    "    __side='abc'\n",
    "    def get_side(self):\n",
    "        print(self.__side)\n",
    "    def set_side(self,st):\n",
    "        self.__side=st\n",
    "obj=Square()\n",
    "obj.set_side('Harsh')\n",
    "obj.get_side()"
   ]
  },
  {
   "cell_type": "markdown",
   "metadata": {},
   "source": [
    "### 14) Create a class Profit that has a method named getProfit that accepts profit from the user.\n",
    "### Create a class Loss that has a method named getLoss that accepts loss from the user.\n",
    "### Create a class BalanceSheet that inherits from both classes Profit and Loss and calculates the balanace. It has two methods getBalance() and printBalance()."
   ]
  },
  {
   "cell_type": "code",
   "execution_count": 19,
   "metadata": {},
   "outputs": [
    {
     "name": "stdout",
     "output_type": "stream",
     "text": [
      "50\n"
     ]
    }
   ],
   "source": [
    "\n",
    "class Profit:\n",
    "    def __init__(self,amount):\n",
    "        self.p=amount\n",
    "    def getProfit(self):\n",
    "        return self.p\n",
    "\n",
    "\n",
    "class Loss:\n",
    "    def __init__(self,amount):\n",
    "        self.l=amount\n",
    "    def getLoss(self):\n",
    "         return self.l\n",
    "\n",
    "\n",
    "class BalanceSheet(Profit,Loss):\n",
    "    def __init__(self,profit,loss):\n",
    "        Profit.__init__(self,profit)\n",
    "        Loss.__init__(self,loss)\n",
    "         \n",
    "    def balance(self):\n",
    "        ans=self.p-self.l\n",
    "        return ans\n",
    "        \n",
    "\n",
    "b1=BalanceSheet(100,50)\n",
    "print(b1.balance())\n",
    "        \n",
    "        "
   ]
  },
  {
   "attachments": {},
   "cell_type": "markdown",
   "metadata": {},
   "source": [
    "### 15) WAP to demonstrate all types of inheritance."
   ]
  },
  {
   "cell_type": "code",
   "execution_count": 20,
   "metadata": {},
   "outputs": [
    {
     "name": "stdout",
     "output_type": "stream",
     "text": [
      "This is the Parent class\n",
      "This is the Child class\n",
      "Father's property\n",
      "Mother's property\n",
      "This is the Child class\n",
      "This is the Grandparent class\n",
      "This is the Parent class\n",
      "This is the Child class\n",
      "Father's property\n",
      "Mother's property\n",
      "This is the Child class\n",
      "This is the Grandparent class\n",
      "This is the Parent class\n",
      "This is the Child class\n",
      "This is the Parent class\n",
      "This is Child1 class\n",
      "This is the Parent class\n",
      "This is Child2 class\n",
      "This is the Base class\n",
      "This is Derived1 class\n",
      "This is Derived2 class\n",
      "This is Derived3 class\n"
     ]
    }
   ],
   "source": [
    "#Single\n",
    "\n",
    "class Parent:\n",
    "    def show(self):\n",
    "        print(\"This is the Parent class\")\n",
    "\n",
    "class Child(Parent):\n",
    "    def display(self):\n",
    "        print(\"This is the Child class\")\n",
    "\n",
    "obj = Child()\n",
    "obj.show()   \n",
    "obj.display()\n",
    "\n",
    "#Multiple\n",
    "class Father:\n",
    "    def show_father(self):\n",
    "        print(\"Father's property\")\n",
    "\n",
    "class Mother:\n",
    "    def show_mother(self):\n",
    "        print(\"Mother's property\")\n",
    "\n",
    "class Child(Father, Mother):\n",
    "    def display(self):\n",
    "        print(\"This is the Child class\")\n",
    "\n",
    "obj = Child()\n",
    "obj.show_father()  \n",
    "obj.show_mother()  \n",
    "obj.display()     \n",
    "\n",
    "\n",
    "#multilevel\n",
    "class Grandparent:\n",
    "    def show_grandparent(self):\n",
    "        print(\"This is the Grandparent class\")\n",
    "\n",
    "class Parent(Grandparent):\n",
    "    def show_parent(self):\n",
    "        print(\"This is the Parent class\")\n",
    "\n",
    "class Child(Parent):\n",
    "    def show_child(self):\n",
    "        print(\"This is the Child class\")\n",
    "\n",
    "obj = Child()\n",
    "obj.show_grandparent()\n",
    "obj.show_parent()\n",
    "obj.show_child()\n",
    "\n",
    "\n",
    "class Father:\n",
    "    def show_father(self):\n",
    "        print(\"Father's property\")\n",
    "\n",
    "class Mother:\n",
    "    def show_mother(self):\n",
    "        print(\"Mother's property\")\n",
    "\n",
    "class Child(Father, Mother):\n",
    "    def display(self):\n",
    "        print(\"This is the Child class\")\n",
    "\n",
    "obj = Child()\n",
    "obj.show_father()\n",
    "obj.show_mother()\n",
    "obj.display()\n",
    "\n",
    "class Grandparent:\n",
    "    def show_grandparent(self):\n",
    "        print(\"This is the Grandparent class\")\n",
    "\n",
    "class Parent(Grandparent):\n",
    "    def show_parent(self):\n",
    "        print(\"This is the Parent class\")\n",
    "\n",
    "class Child(Parent):\n",
    "    def show_child(self):\n",
    "        print(\"This is the Child class\")\n",
    "\n",
    "obj = Child()\n",
    "obj.show_grandparent()\n",
    "obj.show_parent()\n",
    "obj.show_child()\n",
    "\n",
    "#Hierarchical \n",
    "class Parent:\n",
    "    def show(self):\n",
    "        print(\"This is the Parent class\")\n",
    "\n",
    "class Child1(Parent):\n",
    "    def display1(self):\n",
    "        print(\"This is Child1 class\")\n",
    "\n",
    "class Child2(Parent):\n",
    "    def display2(self):\n",
    "        print(\"This is Child2 class\")\n",
    "\n",
    "obj1 = Child1()\n",
    "obj2 = Child2()\n",
    "\n",
    "obj1.show()\n",
    "obj1.display1()\n",
    "\n",
    "obj2.show()\n",
    "obj2.display2()\n",
    "\n",
    "\n",
    "#Hybrid\n",
    "class Base:\n",
    "    def show_base(self):\n",
    "        print(\"This is the Base class\")\n",
    "\n",
    "class Derived1(Base):\n",
    "    def show_derived1(self):\n",
    "        print(\"This is Derived1 class\")\n",
    "\n",
    "class Derived2(Base):\n",
    "    def show_derived2(self):\n",
    "        print(\"This is Derived2 class\")\n",
    "\n",
    "class Derived3(Derived1, Derived2):\n",
    "    def show_derived3(self):\n",
    "        print(\"This is Derived3 class\")\n",
    "\n",
    "obj = Derived3()\n",
    "obj.show_base()\n",
    "obj.show_derived1()\n",
    "obj.show_derived2()\n",
    "obj.show_derived3()"
   ]
  },
  {
   "cell_type": "markdown",
   "metadata": {},
   "source": [
    "### 16) Create a Person class with a constructor that takes two arguments name and age. \n",
    "### Create a child class Employee that inherits from Person and adds a new attribute salary. \n",
    "### Override the __init__ method in Employee to call the parent class's __init__ method using the super() and then initialize the salary attribute."
   ]
  },
  {
   "cell_type": "code",
   "execution_count": 23,
   "metadata": {},
   "outputs": [
    {
     "name": "stdout",
     "output_type": "stream",
     "text": [
      "Name: Harsh, Age: 30\n",
      "Name: Deep, Age: 28\n",
      "Salary: 50000\n"
     ]
    }
   ],
   "source": [
    "class Person:\n",
    "    def __init__(self, name, age):\n",
    "        self.name = name\n",
    "        self.age = age\n",
    "\n",
    "    def display_info(self):\n",
    "        print(f\"Name: {self.name}, Age: {self.age}\")\n",
    "\n",
    "class Employee(Person):\n",
    "    def __init__(self, name, age, salary):\n",
    "        super().__init__(name, age) \n",
    "        self.salary = salary\n",
    "\n",
    "    def display_info(self):\n",
    "        super().display_info()\n",
    "        print(f\"Salary: {self.salary}\")\n",
    "\n",
    "person = Person('Harsh', 30)\n",
    "person.display_info()\n",
    "\n",
    "employee = Employee('Deep', 28, 50000)\n",
    "employee.display_info()"
   ]
  },
  {
   "cell_type": "markdown",
   "metadata": {},
   "source": [
    "### 17) Create a Shape class with a draw method that is not implemented. \n",
    "### Create three child classes Rectangle, Circle, and Triangle that implement the draw method with their respective drawing behaviors. \n",
    "### Create a list of Shape objects that includes one instance of each child class, and then iterate through the list and call the draw method on each object."
   ]
  },
  {
   "cell_type": "code",
   "execution_count": 26,
   "metadata": {},
   "outputs": [
    {
     "name": "stdout",
     "output_type": "stream",
     "text": [
      "Drawing a Triangle\n",
      "Drawing a Rectangle\n",
      "Drawing a Circle\n"
     ]
    }
   ],
   "source": [
    "from abc import ABC, abstractmethod\n",
    "\n",
    "class Shape(ABC):\n",
    "    @abstractmethod\n",
    "    def draw(self):\n",
    "        pass\n",
    "\n",
    "class Rectangle(Shape):\n",
    "    def draw(self):\n",
    "        print(\"Drawing a Rectangle\")\n",
    "\n",
    "class Circle(Shape):\n",
    "    def draw(self):\n",
    "        print(\"Drawing a Circle\")\n",
    "\n",
    "class Triangle(Shape):\n",
    "    def draw(self):\n",
    "        print(\"Drawing a Triangle\")\n",
    "\n",
    "shapes = [Triangle(),Rectangle(),Circle()]\n",
    "\n",
    "for shape in shapes:\n",
    "    shape.draw()\n"
   ]
  },
  {
   "cell_type": "code",
   "execution_count": null,
   "metadata": {},
   "outputs": [],
   "source": []
  }
 ],
 "metadata": {
  "kernelspec": {
   "display_name": "Python 3 (ipykernel)",
   "language": "python",
   "name": "python3"
  },
  "language_info": {
   "codemirror_mode": {
    "name": "ipython",
    "version": 3
   },
   "file_extension": ".py",
   "mimetype": "text/x-python",
   "name": "python",
   "nbconvert_exporter": "python",
   "pygments_lexer": "ipython3",
   "version": "3.12.7"
  }
 },
 "nbformat": 4,
 "nbformat_minor": 4
}
